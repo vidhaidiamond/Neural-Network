{
  "nbformat": 4,
  "nbformat_minor": 0,
  "metadata": {
    "colab": {
      "provenance": []
    },
    "kernelspec": {
      "name": "python3",
      "display_name": "Python 3"
    },
    "language_info": {
      "name": "python"
    }
  },
  "cells": [
    {
      "cell_type": "markdown",
      "source": [
        "Question 2: Convolution Operations with Different Parameters."
      ],
      "metadata": {
        "id": "LVe5sFRk8q-k"
      }
    },
    {
      "cell_type": "code",
      "execution_count": null,
      "metadata": {
        "colab": {
          "base_uri": "https://localhost:8080/"
        },
        "id": "m33_K4Ac8kfn",
        "outputId": "f301fad8-1507-41f5-fa89-a87657dc7683"
      },
      "outputs": [
        {
          "output_type": "stream",
          "name": "stderr",
          "text": [
            "/usr/local/lib/python3.11/dist-packages/keras/src/layers/convolutional/base_conv.py:107: UserWarning: Do not pass an `input_shape`/`input_dim` argument to a layer. When using Sequential models, prefer using an `Input(shape)` object as the first layer in the model instead.\n",
            "  super().__init__(activity_regularizer=activity_regularizer, **kwargs)\n"
          ]
        },
        {
          "output_type": "stream",
          "name": "stdout",
          "text": [
            "\u001b[1m1/1\u001b[0m \u001b[32m━━━━━━━━━━━━━━━━━━━━\u001b[0m\u001b[37m\u001b[0m \u001b[1m0s\u001b[0m 192ms/step\n",
            "\u001b[1m1/1\u001b[0m \u001b[32m━━━━━━━━━━━━━━━━━━━━\u001b[0m\u001b[37m\u001b[0m \u001b[1m0s\u001b[0m 83ms/step\n",
            "\u001b[1m1/1\u001b[0m \u001b[32m━━━━━━━━━━━━━━━━━━━━\u001b[0m\u001b[37m\u001b[0m \u001b[1m0s\u001b[0m 79ms/step\n",
            "\u001b[1m1/1\u001b[0m \u001b[32m━━━━━━━━━━━━━━━━━━━━\u001b[0m\u001b[37m\u001b[0m \u001b[1m0s\u001b[0m 75ms/step\n",
            "Output (Stride=1, Padding='VALID'):\n",
            " [[ -2.  -2.   8.]\n",
            " [ -8.   2.  12.]\n",
            " [-14.  -4.   6.]]\n",
            "\n",
            "Output (Stride=1, Padding='SAME'):\n",
            " [[ -6.   0.   0.   0.   6.]\n",
            " [-13.  -2.  -2.   8.  15.]\n",
            " [-20.  -8.   2.  12.  18.]\n",
            " [-19. -14.  -4.   6.  23.]\n",
            " [-12. -12.  -2.  -2.  14.]]\n",
            "\n",
            "Output (Stride=2, Padding='VALID'):\n",
            " [[ -2.   8.]\n",
            " [-14.   6.]]\n",
            "\n",
            "Output (Stride=2, Padding='SAME'):\n",
            " [[ -6.   0.   6.]\n",
            " [-20.   2.  18.]\n",
            " [-12.  -2.  14.]]\n"
          ]
        }
      ],
      "source": [
        "import numpy as np\n",
        "import tensorflow as tf\n",
        "from tensorflow.keras.layers import Conv2D\n",
        "from tensorflow.keras.models import Sequential\n",
        "\n",
        "# Define the 5×5 input matrix\n",
        "input_matrix = np.array([[1, 2, 3, 4, 5],\n",
        "                         [5, 4, 3, 2, 1],\n",
        "                         [6, 7, 8, 9, 0],\n",
        "                         [0, 9, 8, 7, 6],\n",
        "                         [1, 3, 5, 7, 9]], dtype=np.float32)\n",
        "\n",
        "# Reshape input to match TensorFlow format (batch_size, height, width, channels)\n",
        "input_matrix = input_matrix.reshape(1, 5, 5, 1)\n",
        "\n",
        "# Define the 3×3 kernel\n",
        "kernel = np.array([[1, 0, -1],\n",
        "                   [1, 0, -1],\n",
        "                   [1, 0, -1]], dtype=np.float32)\n",
        "\n",
        "# Reshape kernel to match TensorFlow format (height, width, in_channels, out_channels)\n",
        "kernel = kernel.reshape(3, 3, 1, 1)\n",
        "\n",
        "# Function to perform convolution\n",
        "def apply_convolution(input_matrix, kernel, stride, padding):\n",
        "    model = Sequential([\n",
        "        Conv2D(filters=1, kernel_size=(3, 3), strides=stride, padding=padding,\n",
        "               kernel_initializer=tf.constant_initializer(kernel), use_bias=False, input_shape=(5, 5, 1))\n",
        "    ])\n",
        "    output = model.predict(input_matrix)\n",
        "    return output.squeeze()  # Remove unnecessary dimensions\n",
        "\n",
        "# Perform convolutions with different stride and padding parameters\n",
        "output_valid_1 = apply_convolution(input_matrix, kernel, stride=1, padding='valid')\n",
        "output_same_1 = apply_convolution(input_matrix, kernel, stride=1, padding='same')\n",
        "output_valid_2 = apply_convolution(input_matrix, kernel, stride=2, padding='valid')\n",
        "output_same_2 = apply_convolution(input_matrix, kernel, stride=2, padding='same')\n",
        "\n",
        "# Print results\n",
        "print(\"Output (Stride=1, Padding='VALID'):\\n\", output_valid_1)\n",
        "print(\"\\nOutput (Stride=1, Padding='SAME'):\\n\", output_same_1)\n",
        "print(\"\\nOutput (Stride=2, Padding='VALID'):\\n\", output_valid_2)\n",
        "print(\"\\nOutput (Stride=2, Padding='SAME'):\\n\", output_same_2)\n"
      ]
    }
  ]
}